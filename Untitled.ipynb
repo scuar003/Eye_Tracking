{
 "cells": [
  {
   "cell_type": "markdown",
   "id": "92cfbfe1",
   "metadata": {},
   "source": [
    "## Real Time Detection "
   ]
  },
  {
   "cell_type": "code",
   "execution_count": 4,
   "id": "586f26c2",
   "metadata": {},
   "outputs": [],
   "source": [
    "#import libraries\n",
    "import cv2\n",
    "import face_recognition"
   ]
  },
  {
   "cell_type": "code",
   "execution_count": 5,
   "id": "9a72c03d",
   "metadata": {},
   "outputs": [],
   "source": [
    "#start caturing video\n",
    "cap = cv2.VideoCapture(0)\n",
    "\n",
    "if not cap.isOpened():\n",
    "    print(\"error could not opened video stream\")\n",
    "    exit()"
   ]
  },
  {
   "cell_type": "code",
   "execution_count": 6,
   "id": "2e630661",
   "metadata": {},
   "outputs": [
    {
     "name": "stdout",
     "output_type": "stream",
     "text": [
      "Error: Couldn't retrieve frame from video stream\n"
     ]
    }
   ],
   "source": [
    "\n",
    "while True:\n",
    "    ret, frame = cap.read()\n",
    "    if not ret:\n",
    "        print(\"Error: Couldn't retrieve frame from video stream\")\n",
    "        break\n",
    "\n",
    "    # Convert the image from BGR color (which OpenCV uses) to RGB color\n",
    "    rgb_frame = frame[:, :, ::-1]\n",
    "\n",
    "    # Find all facial features in all the faces in the image\n",
    "    face_landmarks_list = face_recognition.face_landmarks(rgb_frame)\n",
    "\n",
    "    for face_landmarks in face_landmarks_list:\n",
    "        # Draw circles around the eyes\n",
    "        for point in face_landmarks['left_eye']:\n",
    "            cv2.circle(frame, point, 2, (255, 0, 0), -1)  # Blue color for left eye\n",
    "        for point in face_landmarks['right_eye']:\n",
    "            cv2.circle(frame, point, 2, (0, 255, 0), -1)  # Green color for right eye\n",
    "\n",
    "    # Display the resulting image\n",
    "    cv2.imshow('Video', frame)\n",
    "\n",
    "    # Break the loop when 'q' is pressed\n",
    "    if cv2.waitKey(1) & 0xFF == ord('q'):\n",
    "        break\n",
    "\n",
    "# Release the VideoCapture object and close windows\n",
    "cap.release()\n",
    "cv2.destroyAllWindows()\n"
   ]
  },
  {
   "cell_type": "code",
   "execution_count": null,
   "id": "fa6de899",
   "metadata": {},
   "outputs": [],
   "source": []
  }
 ],
 "metadata": {
  "kernelspec": {
   "display_name": "Python 3 (ipykernel)",
   "language": "python",
   "name": "python3"
  },
  "language_info": {
   "codemirror_mode": {
    "name": "ipython",
    "version": 3
   },
   "file_extension": ".py",
   "mimetype": "text/x-python",
   "name": "python",
   "nbconvert_exporter": "python",
   "pygments_lexer": "ipython3",
   "version": "3.10.8"
  }
 },
 "nbformat": 4,
 "nbformat_minor": 5
}

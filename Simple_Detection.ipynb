{
 "cells": [
  {
   "cell_type": "markdown",
   "id": "8f98c4a4",
   "metadata": {},
   "source": [
    "## Eye Detection"
   ]
  },
  {
   "cell_type": "code",
   "execution_count": 2,
   "id": "bf49580c",
   "metadata": {},
   "outputs": [],
   "source": [
    "#import libraries \n",
    "import cv2\n",
    "import face_recognition\n",
    "from PIL import Image, ImageDraw"
   ]
  },
  {
   "cell_type": "code",
   "execution_count": 3,
   "id": "5b69204a",
   "metadata": {},
   "outputs": [],
   "source": [
    "# load image\n",
    "\n",
    "image = face_recognition.load_image_file('src/Images/face1.jpg')"
   ]
  },
  {
   "cell_type": "code",
   "execution_count": 4,
   "id": "349fb6ae",
   "metadata": {},
   "outputs": [],
   "source": [
    "#find all facial features \n",
    "face_landmarks_list = face_recognition.face_landmarks(image)\n",
    "smoothed_image = cv2.GaussianBlur(image, (5, 5), cv2.BORDER_DEFAULT)\n"
   ]
  },
  {
   "cell_type": "code",
   "execution_count": 5,
   "id": "395e28f2",
   "metadata": {},
   "outputs": [
    {
     "name": "stdout",
     "output_type": "stream",
     "text": [
      "The eyes are located at the following coordinates:\n",
      "[(743, 356), (759, 346), (781, 346), (799, 359), (779, 363), (758, 364)]\n",
      "[(884, 360), (904, 347), (925, 348), (943, 358), (927, 365), (905, 364)]\n"
     ]
    }
   ],
   "source": [
    "for face_landmarks in face_landmarks_list:\n",
    "    # Print the location of each eye\n",
    "    print(\"The eyes are located at the following coordinates:\")\n",
    "    print(face_landmarks['left_eye'])\n",
    "    print(face_landmarks['right_eye'])\n",
    "\n",
    "    # Optional: Show the image with eyes highlighted\n",
    "    pil_image = Image.fromarray(image)\n",
    "    d = ImageDraw.Draw(pil_image)\n",
    "\n",
    "    d.line(face_landmarks['left_eye'] + [face_landmarks['left_eye'][0]], fill=(255, 255, 255), width=5)\n",
    "    d.line(face_landmarks['right_eye'] + [face_landmarks['right_eye'][0]], fill=(255, 255, 255), width=5)\n",
    "\n",
    "    pil_image.show()"
   ]
  }
 ],
 "metadata": {
  "kernelspec": {
   "display_name": "Python 3 (ipykernel)",
   "language": "python",
   "name": "python3"
  },
  "language_info": {
   "codemirror_mode": {
    "name": "ipython",
    "version": 3
   },
   "file_extension": ".py",
   "mimetype": "text/x-python",
   "name": "python",
   "nbconvert_exporter": "python",
   "pygments_lexer": "ipython3",
   "version": "3.10.8"
  }
 },
 "nbformat": 4,
 "nbformat_minor": 5
}
